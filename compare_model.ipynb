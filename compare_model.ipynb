{
  "nbformat": 4,
  "nbformat_minor": 0,
  "metadata": {
    "colab": {
      "name": "compare_model.ipynb",
      "provenance": [],
      "authorship_tag": "ABX9TyMeEELXt7ugQmtZXVNr5kzk",
      "include_colab_link": true
    },
    "kernelspec": {
      "name": "python3",
      "display_name": "Python 3"
    }
  },
  "cells": [
    {
      "cell_type": "markdown",
      "metadata": {
        "id": "view-in-github",
        "colab_type": "text"
      },
      "source": [
        "<a href=\"https://colab.research.google.com/github/zhangsushen1992/CascadeLearning/blob/master/compare_model.ipynb\" target=\"_parent\"><img src=\"https://colab.research.google.com/assets/colab-badge.svg\" alt=\"Open In Colab\"/></a>"
      ]
    },
    {
      "cell_type": "code",
      "metadata": {
        "colab": {
          "base_uri": "https://localhost:8080/"
        },
        "id": "ysj2KIB9Nc5-",
        "outputId": "7bcaa1a5-783b-4c90-a0db-0d39f67fd9c8"
      },
      "source": [
        "from google.colab import drive\n",
        "drive.mount('/content/drive')"
      ],
      "execution_count": 1,
      "outputs": [
        {
          "output_type": "stream",
          "text": [
            "Mounted at /content/drive\n"
          ],
          "name": "stdout"
        }
      ]
    },
    {
      "cell_type": "code",
      "metadata": {
        "id": "fhHnnKUHNRRJ"
      },
      "source": [
        "import keras\n",
        "model=keras.models.load_model('drive/MyDrive/code/weights_round_1/weights-improvement-15-0.01.hdf5')"
      ],
      "execution_count": 2,
      "outputs": []
    },
    {
      "cell_type": "code",
      "metadata": {
        "id": "5EYDR3puN3YJ"
      },
      "source": [
        "cascade_1_weigths=model.get_weights()"
      ],
      "execution_count": 10,
      "outputs": []
    },
    {
      "cell_type": "code",
      "metadata": {
        "id": "kewLuGbEN6w9"
      },
      "source": [
        "end_to_end_model=keras.models.load_model('drive/MyDrive/code/weights-end-to-end-50-0.00 (1).hdf5')\n",
        "# /content/drive/MyDrive/code/weights-end-to-end-50-0.00 (1).hdf5"
      ],
      "execution_count": 7,
      "outputs": []
    },
    {
      "cell_type": "code",
      "metadata": {
        "id": "aQr2XFxqOEq9"
      },
      "source": [
        "end_weights=end_to_end_model.get_weights()"
      ],
      "execution_count": 9,
      "outputs": []
    },
    {
      "cell_type": "code",
      "metadata": {
        "colab": {
          "base_uri": "https://localhost:8080/",
          "height": 264
        },
        "id": "VMx7fFFsQBWo",
        "outputId": "40e9955e-a33e-457b-f03a-a2ab3cabe0d6"
      },
      "source": [
        "import matplotlib.pyplot as plt\n",
        "import numpy as np\n",
        "def hist_weights(weights, bins=500):\n",
        "    for weight in weights:\n",
        "        plt.hist(np.ndarray.flatten(weight), bins=bins)\n",
        "        plt.xlim(left=-1,right=1)\n",
        "hist_weights(end_weights)"
      ],
      "execution_count": 14,
      "outputs": [
        {
          "output_type": "display_data",
          "data": {
            "image/png": "[encoded data removed]",
            "text/plain": [
              "<Figure size 432x288 with 1 Axes>"
            ]
          },
          "metadata": {
            "tags": [],
            "needs_background": "light"
          }
        }
      ]
    },
    {
      "cell_type": "code",
      "metadata": {
        "colab": {
          "base_uri": "https://localhost:8080/",
          "height": 264
        },
        "id": "r7BASi0oPtwV",
        "outputId": "57f766d7-5011-41c2-adfe-a0dc39797715"
      },
      "source": [
        "hist_weights(cascade_1_weigths)"
      ],
      "execution_count": 15,
      "outputs": [
        {
          "output_type": "display_data",
          "data": {
            "image/png": "[encoded data removed]",
            "text/plain": [
              "<Figure size 432x288 with 1 Axes>"
            ]
          },
          "metadata": {
            "tags": [],
            "needs_background": "light"
          }
        }
      ]
    }
  ]
}